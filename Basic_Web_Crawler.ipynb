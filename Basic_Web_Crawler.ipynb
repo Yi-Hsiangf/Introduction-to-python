{
 "cells": [
  {
   "cell_type": "code",
   "execution_count": 1,
   "metadata": {},
   "outputs": [],
   "source": [
    "import requests\n",
    "from bs4 import BeautifulSoup\n",
    "\n",
    "\n",
    "url = 'https://www.worldometers.info/coronavirus/country/germany/'\n",
    "response = requests.get(url)\n",
    "html_doc = response.text\n",
    "soup = BeautifulSoup(html_doc, 'lxml') #parse\n",
    "#print(soup.prettify())"
   ]
  },
  {
   "cell_type": "markdown",
   "metadata": {},
   "source": [
    "#### Get some information"
   ]
  },
  {
   "cell_type": "code",
   "execution_count": 2,
   "metadata": {},
   "outputs": [
    {
     "name": "stdout",
     "output_type": "stream",
     "text": [
      "<title>Germany Coronavirus: 150,648 Cases and 5,315 Deaths - Worldometer</title>\n",
      "---\n",
      "title\n",
      "---\n",
      "Germany Coronavirus: 150,648 Cases and 5,315 Deaths - Worldometer\n",
      "---\n",
      "head\n",
      "---\n",
      "<a class=\"navbar-brand\" href=\"/\"><img border=\"0\" src=\"/img/worldometers-logo.gif\" title=\"Worldometer\"/></a>\n",
      "---\n"
     ]
    }
   ],
   "source": [
    "print(soup.title) # 把 tag 抓出來\n",
    "print(\"---\")\n",
    "print(soup.title.name) # 把 title 的 tag 名稱抓出來\n",
    "print(\"---\")\n",
    "print(soup.title.string) # 把 title tag 的內容印出來\n",
    "print(\"---\")\n",
    "print(soup.title.parent.name) # title tag 的上一層 tag\n",
    "print(\"---\")\n",
    "print(soup.a) # 把第一個 <a></a> 抓出來\n",
    "print(\"---\")"
   ]
  },
  {
   "cell_type": "code",
   "execution_count": 3,
   "metadata": {},
   "outputs": [
    {
     "name": "stdout",
     "output_type": "stream",
     "text": [
      "['Germany', 'Coronavirus:', '150,648', 'Cases', 'and', '5,315', 'Deaths', '-', 'Worldometer']\n"
     ]
    }
   ],
   "source": [
    "str = soup.title.string\n",
    "token = list(str.split(\" \"))\n",
    "print(token)\n",
    "Total_cases = token[2]\n",
    "Total_deaths = token[5]"
   ]
  },
  {
   "cell_type": "markdown",
   "metadata": {},
   "source": [
    "#### Download the image from website"
   ]
  },
  {
   "cell_type": "code",
   "execution_count": 4,
   "metadata": {},
   "outputs": [
    {
     "name": "stdout",
     "output_type": "stream",
     "text": [
      "Images detected:  1\n"
     ]
    }
   ],
   "source": [
    "import urllib.request\n",
    "from IPython.display import Image\n",
    "import os\n",
    "\n",
    "\n",
    "url = 'https://www.google.com/'\n",
    "response = requests.get(url)\n",
    "html_doc = response.text\n",
    "soup = BeautifulSoup(html_doc, 'lxml') #parse\n",
    "links = []\n",
    "imgs = soup.find_all('img')\n",
    "for img in imgs:\n",
    "    link = img.get('src')\n",
    "    if link is not None:\n",
    "        if 'http://' not in link:\n",
    "            link = url + link\n",
    "            links.append(link)\n",
    "    \n",
    "print('Images detected: ', len(links))"
   ]
  },
  {
   "cell_type": "code",
   "execution_count": 5,
   "metadata": {},
   "outputs": [
    {
     "name": "stdout",
     "output_type": "stream",
     "text": [
      "https://www.google.com//images/branding/googlelogo/1x/googlelogo_white_background_color_272x92dp.png\n"
     ]
    }
   ],
   "source": [
    "for i in range(len(links)):\n",
    "    print(links[i])"
   ]
  },
  {
   "cell_type": "code",
   "execution_count": 6,
   "metadata": {},
   "outputs": [
    {
     "data": {
      "image/png": "[encoded data removed]",
      "text/plain": [
       "<IPython.core.display.Image object>"
      ]
     },
     "metadata": {},
     "output_type": "display_data"
    },
    {
     "name": "stdout",
     "output_type": "stream",
     "text": [
      "done\n"
     ]
    }
   ],
   "source": [
    "for i in range(len(links)):\n",
    "    file_name = 'img{}.png'.format(i)\n",
    "    #opener=urllib.request.build_opener()\n",
    "    #opener.addheaders=[('User-Agent','Mozilla/5.0 (Windows NT 6.1; WOW64) AppleWebKit/537.36 (KHTML, like Gecko) Chrome/36.0.1941.0 Safari/537.36')]\n",
    "    #urllib.request.install_opener(opener)\n",
    "    urllib.request.urlretrieve(links[i], file_name)\n",
    "    display(Image(filename = file_name)) \n",
    "    os.remove(file_name)\n",
    "print('done')"
   ]
  },
  {
   "cell_type": "markdown",
   "metadata": {},
   "source": [
    "#### When encountering “HTTP Error 403: Forbidden”. It possibly due to the server does not know the request is coming from. Some websites will verify the UserAgent in order to prevent from abnormal visit. So you should provide information of your fake browser visit."
   ]
  }
 ],
 "metadata": {
  "kernelspec": {
   "display_name": "Python 3",
   "language": "python",
   "name": "python3"
  },
  "language_info": {
   "codemirror_mode": {
    "name": "ipython",
    "version": 3
   },
   "file_extension": ".py",
   "mimetype": "text/x-python",
   "name": "python",
   "nbconvert_exporter": "python",
   "pygments_lexer": "ipython3",
   "version": "3.7.6"
  }
 },
 "nbformat": 4,
 "nbformat_minor": 4
}
