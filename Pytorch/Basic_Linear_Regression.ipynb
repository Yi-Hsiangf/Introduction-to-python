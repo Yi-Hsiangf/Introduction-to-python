{
 "cells": [
  {
   "cell_type": "markdown",
   "metadata": {},
   "source": [
    "#### From https://github.com/chenyuntc/pytorch-book.git"
   ]
  },
  {
   "cell_type": "markdown",
   "metadata": {},
   "source": [
    "## Linear Regression"
   ]
  },
  {
   "cell_type": "markdown",
   "metadata": {},
   "source": [
    "線性回歸是一種機器學習入門知識，應用十分廣泛的方法。線性回歸利用數理統計中回歸分析，來確定兩種或多種變量之間的相互依賴關係，其表達形式為$ y = wx + b + e $，$ E $為誤差服從均值為0的正態分佈。首先讓我們來確認線性回歸的損失函數：\n",
    "$$\n",
    "損失= \\ sum_i ^ N \\ frac 1 2（{y_i-（wx_i + b）}）^ 2\n",
    "$$\n",
    "然後利用隨機梯度梯度下降法更新參數$ \\ textbf {w} $和$ \\ textbf {b} $來最小化的損失損失函數，最終學得$ \\ textbf {w} $和$ \\ textbf {b} $的數值。"
   ]
  },
  {
   "cell_type": "code",
   "execution_count": 1,
   "metadata": {},
   "outputs": [],
   "source": [
    "import torch as t\n",
    "%matplotlib inline\n",
    "from matplotlib import pyplot as plt\n",
    "from IPython import display\n",
    "\n",
    "device = t.device('cpu')"
   ]
  },
  {
   "cell_type": "code",
   "execution_count": 13,
   "metadata": {},
   "outputs": [],
   "source": [
    "t.manual_seed(1000) \n",
    "def get_data(batch_size):\n",
    "    x = t.rand(batch_size, 1, device=device) * 5\n",
    "    y = x * 2 + 3 + t.randn(batch_size, 1, device=device)\n",
    "    return x, y"
   ]
  },
  {
   "cell_type": "code",
   "execution_count": 16,
   "metadata": {},
   "outputs": [
    {
     "data": {
      "text/plain": [
       "<matplotlib.collections.PathCollection at 0x1a90c4c4748>"
      ]
     },
     "execution_count": 16,
     "metadata": {},
     "output_type": "execute_result"
    },
    {
     "data": {
      "image/png": "[encoded data removed]",
      "text/plain": [
       "<Figure size 432x288 with 1 Axes>"
      ]
     },
     "metadata": {
      "needs_background": "light"
     },
     "output_type": "display_data"
    }
   ],
   "source": [
    "x, y = get_data(batch_size = 16)\n",
    "plt.scatter(x.squeeze().cpu().numpy(), y.squeeze().cpu().numpy())"
   ]
  },
  {
   "cell_type": "code",
   "execution_count": 17,
   "metadata": {},
   "outputs": [
    {
     "name": "stdout",
     "output_type": "stream",
     "text": [
      "tensor([[1.5947],\n",
      "        [3.0678],\n",
      "        [2.2089],\n",
      "        [1.2902],\n",
      "        [1.3621],\n",
      "        [3.1306],\n",
      "        [2.2050],\n",
      "        [1.8264],\n",
      "        [1.7674],\n",
      "        [2.9857],\n",
      "        [1.7858],\n",
      "        [2.4034],\n",
      "        [2.1083],\n",
      "        [0.6268],\n",
      "        [3.4089],\n",
      "        [0.2857]])\n",
      "tensor([[5.0145],\n",
      "        [8.8441],\n",
      "        [6.7857],\n",
      "        [5.3750],\n",
      "        [5.6320],\n",
      "        [8.5586],\n",
      "        [7.5593],\n",
      "        [6.7151],\n",
      "        [7.4888],\n",
      "        [9.0805],\n",
      "        [5.6072],\n",
      "        [7.9097],\n",
      "        [7.3502],\n",
      "        [2.7152],\n",
      "        [9.4606],\n",
      "        [4.0324]])\n"
     ]
    }
   ],
   "source": [
    "print(x)\n",
    "print(y)"
   ]
  },
  {
   "cell_type": "code",
   "execution_count": 30,
   "metadata": {},
   "outputs": [
    {
     "data": {
      "image/png": "[encoded data removed]",
      "text/plain": [
       "<Figure size 432x288 with 1 Axes>"
      ]
     },
     "metadata": {
      "needs_background": "light"
     },
     "output_type": "display_data"
    },
    {
     "name": "stdout",
     "output_type": "stream",
     "text": [
      "w:  1.904789686203003 b:  2.945845365524292\n"
     ]
    }
   ],
   "source": [
    "# Set parameter\n",
    "w = t.rand(1, 1).to(device)\n",
    "b = t.zeros(1, 1).to(device)\n",
    "\n",
    "lr = 0.02\n",
    "\n",
    "for i in range(500):\n",
    "    x, y = get_data(batch_size=4)\n",
    "    # Forward\n",
    "    y_pred = x.mm(w) + b.expand_as(y) # x@w == x.mm(w)\n",
    "    loss = 0.5 * (y_pred - y) ** 2 # Mean Square Error\n",
    "    loss = loss.mean()\n",
    "    \n",
    "    # Backward\n",
    "    dloss = 1\n",
    "    dy_pred = dloss * (y_pred - y)\n",
    "    \n",
    "    dw = x.t().mm(dy_pred)\n",
    "    db = dy_pred.sum()\n",
    "    \n",
    "    # Tune the weight and bias\n",
    "    w.sub_(lr * dw)\n",
    "    b.sub_(lr * db)\n",
    "    \n",
    "    if i % 50 == 0:\n",
    "        # Display Plot\n",
    "        display.clear_output(wait=True)\n",
    "        x = t.arange(0,6).view(-1,1)\n",
    "        y = x.float().mm(w) + b.expand_as(x)\n",
    "        plt.plot(x.cpu().numpy(), y.cpu().numpy()) # predicted\n",
    "        \n",
    "        x2, y2 = get_data(batch_size=32) \n",
    "        plt.scatter(x2.numpy(), y2.numpy()) # true data\n",
    "        \n",
    "        plt.xlim(0, 5)\n",
    "        plt.ylim(0, 13)\n",
    "        plt.show()\n",
    "        plt.pause(0.5)\n",
    "        \n",
    "print('w: ', w.item(), 'b: ', b.item())"
   ]
  },
  {
   "cell_type": "code",
   "execution_count": null,
   "metadata": {},
   "outputs": [],
   "source": []
  },
  {
   "cell_type": "code",
   "execution_count": null,
   "metadata": {},
   "outputs": [],
   "source": []
  }
 ],
 "metadata": {
  "kernelspec": {
   "display_name": "Python 3",
   "language": "python",
   "name": "python3"
  },
  "language_info": {
   "codemirror_mode": {
    "name": "ipython",
    "version": 3
   },
   "file_extension": ".py",
   "mimetype": "text/x-python",
   "name": "python",
   "nbconvert_exporter": "python",
   "pygments_lexer": "ipython3",
   "version": "3.7.6"
  }
 },
 "nbformat": 4,
 "nbformat_minor": 4
}
